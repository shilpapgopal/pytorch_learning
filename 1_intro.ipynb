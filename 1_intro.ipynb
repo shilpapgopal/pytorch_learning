{
 "cells": [
  {
   "cell_type": "code",
   "execution_count": 2,
   "metadata": {},
   "outputs": [],
   "source": [
    "%matplotlib inline"
   ]
  },
  {
   "cell_type": "markdown",
   "metadata": {},
   "source": [
    "### Learnings from Pytorch tutorial:\n",
    "    https://pytorch.org/tutorials/beginner/basics/quickstart_tutorial.html\n",
    "    https://github.com/pytorch/tutorials/blob/master/beginner_source/basics/quickstart_tutorial.py"
   ]
  },
  {
   "cell_type": "markdown",
   "metadata": {},
   "source": [
    "# Into to Pytoch Model building - Image classification - FashionMNIST"
   ]
  },
  {
   "cell_type": "code",
   "execution_count": 3,
   "metadata": {},
   "outputs": [],
   "source": [
    "\"\"\"\n",
    "`Learn the Basics <intro.html>`_ ||\n",
    "**Quickstart** ||\n",
    "`Tensors <tensorqs_tutorial.html>`_ ||\n",
    "`Datasets & DataLoaders <data_tutorial.html>`_ ||\n",
    "`Transforms <transforms_tutorial.html>`_ ||\n",
    "`Build Model <buildmodel_tutorial.html>`_ ||\n",
    "`Autograd <autogradqs_tutorial.html>`_ ||\n",
    "`Optimization <optimization_tutorial.html>`_ ||\n",
    "`Save & Load Model <saveloadrun_tutorial.html>`_\n",
    "Quickstart\n",
    "===================\n",
    "This section runs through the API for common tasks in machine learning. Refer to the links in each section to dive deeper.\n",
    "Working with data\n",
    "-----------------\n",
    "PyTorch has two `primitives to work with data <https://pytorch.org/docs/stable/data.html>`_:\n",
    "``torch.utils.data.DataLoader`` and ``torch.utils.data.Dataset``.\n",
    "``Dataset`` stores the samples and their corresponding labels, and ``DataLoader`` wraps an iterable around\n",
    "the ``Dataset``.\n",
    "\"\"\"\n",
    "\n",
    "import torch\n",
    "from torch import nn\n",
    "from torch.utils.data import DataLoader\n",
    "from torchvision import datasets\n",
    "from torchvision.transforms import ToTensor, Lambda, Compose\n",
    "import matplotlib.pyplot as plt"
   ]
  },
  {
   "cell_type": "code",
   "execution_count": 14,
   "metadata": {},
   "outputs": [],
   "source": [
    "# PyTorch offers domain-specific libraries such as `TorchText <https://pytorch.org/text/stable/index.html>`_,\n",
    "# `TorchVision <https://pytorch.org/vision/stable/index.html>`_, and `TorchAudio <https://pytorch.org/audio/stable/index.html>`_,\n",
    "# all of which include datasets. For this tutorial, we  will be using a TorchVision dataset.\n",
    "#\n",
    "# The ``torchvision.datasets`` module contains ``Dataset`` objects for many real-world vision data like\n",
    "# CIFAR, COCO (`full list here <https://pytorch.org/vision/stable/datasets.html>`_). In this tutorial, we\n",
    "# use the FashionMNIST dataset. Every TorchVision ``Dataset`` includes two arguments: ``transform`` and\n",
    "# ``target_transform`` to modify the samples and labels respectively.\n",
    "\n",
    "# Download training data from open datasets.\n",
    "training_data = datasets.FashionMNIST(\n",
    "    root=\"data\",\n",
    "    train=True,\n",
    "    download=True,\n",
    "    transform=ToTensor(),\n",
    ")\n",
    "\n",
    "# Download test data from open datasets.\n",
    "test_data = datasets.FashionMNIST(\n",
    "    root=\"data\",\n",
    "    train=False,\n",
    "    download=True,\n",
    "    transform=ToTensor(),\n",
    ")"
   ]
  },
  {
   "cell_type": "code",
   "execution_count": 15,
   "metadata": {},
   "outputs": [
    {
     "name": "stdout",
     "output_type": "stream",
     "text": [
      "\n",
      "\n",
      "\n",
      "Shape of X [N, C, H, W]:  torch.Size([64, 1, 28, 28])\n",
      "Shape of y:  torch.Size([64]) torch.int64\n"
     ]
    }
   ],
   "source": [
    "# We pass the ``Dataset`` as an argument to ``DataLoader``. This wraps an iterable over our dataset, and supports\n",
    "# automatic batching, sampling, shuffling and multiprocess data loading. Here we define a batch size of 64, i.e. each element\n",
    "# in the dataloader iterable will return a batch of 64 features and labels.\n",
    "\n",
    "batch_size = 64\n",
    "\n",
    "# Create data loaders.\n",
    "train_dataloader = DataLoader(training_data, batch_size=batch_size)\n",
    "test_dataloader = DataLoader(test_data, batch_size=batch_size)\n",
    "\n",
    "for X, y in test_dataloader:\n",
    "    print(\"Shape of X [N, C, H, W]: \", X.shape)\n",
    "    print(\"Shape of y: \", y.shape, y.dtype)\n",
    "    break"
   ]
  },
  {
   "cell_type": "code",
   "execution_count": 7,
   "metadata": {},
   "outputs": [
    {
     "name": "stdout",
     "output_type": "stream",
     "text": [
      "Using cuda device\n",
      "NeuralNetwork(\n",
      "  (flatten): Flatten(start_dim=1, end_dim=-1)\n",
      "  (linear_relu_stack): Sequential(\n",
      "    (0): Linear(in_features=784, out_features=512, bias=True)\n",
      "    (1): ReLU()\n",
      "    (2): Linear(in_features=512, out_features=512, bias=True)\n",
      "    (3): ReLU()\n",
      "    (4): Linear(in_features=512, out_features=10, bias=True)\n",
      "  )\n",
      ")\n"
     ]
    }
   ],
   "source": [
    "######################################################################\n",
    "# Read more about `loading data in PyTorch <data_tutorial.html>`_.\n",
    "#\n",
    "\n",
    "################################\n",
    "# Creating Models\n",
    "# ------------------\n",
    "# To define a neural network in PyTorch, we create a class that inherits\n",
    "# from `nn.Module <https://pytorch.org/docs/stable/generated/torch.nn.Module.html>`_. We define the layers of the network\n",
    "# in the ``__init__`` function and specify how data will pass through the network in the ``forward`` function. To accelerate\n",
    "# operations in the neural network, we move it to the GPU if available.\n",
    "\n",
    "# Get cpu or gpu device for training.\n",
    "device = \"cuda\" if torch.cuda.is_available() else \"cpu\"\n",
    "print(f\"Using {device} device\")\n",
    "\n",
    "# Define model\n",
    "class NeuralNetwork(nn.Module):\n",
    "    def __init__(self):\n",
    "        super(NeuralNetwork, self).__init__()\n",
    "        self.flatten = nn.Flatten()\n",
    "        self.linear_relu_stack = nn.Sequential(\n",
    "            nn.Linear(28*28, 512),\n",
    "            nn.ReLU(),\n",
    "            nn.Linear(512, 512),\n",
    "            nn.ReLU(),\n",
    "            nn.Linear(512, 10)\n",
    "        )\n",
    "\n",
    "    def forward(self, x):\n",
    "        x = self.flatten(x)\n",
    "        logits = self.linear_relu_stack(x)\n",
    "        return logits\n",
    "\n",
    "model = NeuralNetwork().to(device)\n",
    "print(model)"
   ]
  },
  {
   "cell_type": "code",
   "execution_count": 8,
   "metadata": {},
   "outputs": [],
   "source": [
    "######################################################################\n",
    "# Read more about `building neural networks in PyTorch <buildmodel_tutorial.html>`_.\n",
    "#\n",
    "\n",
    "#####################################################################\n",
    "# Optimizing the Model Parameters\n",
    "# ----------------------------------------\n",
    "# To train a model, we need a `loss function <https://pytorch.org/docs/stable/nn.html#loss-functions>`_\n",
    "# and an `optimizer <https://pytorch.org/docs/stable/optim.html>`_.\n",
    "\n",
    "loss_fn = nn.CrossEntropyLoss()\n",
    "optimizer = torch.optim.SGD(model.parameters(), lr=1e-3)\n",
    "\n",
    "\n",
    "#######################################################################\n",
    "# In a single training loop, the model makes predictions on the training dataset (fed to it in batches), and\n",
    "# backpropagates the prediction error to adjust the model's parameters.\n",
    "\n",
    "def train(dataloader, model, loss_fn, optimizer):\n",
    "    size = len(dataloader.dataset)\n",
    "    model.train()\n",
    "    for batch, (X, y) in enumerate(dataloader):\n",
    "        X, y = X.to(device), y.to(device)\n",
    "\n",
    "        # Compute prediction error\n",
    "        pred = model(X)\n",
    "        loss = loss_fn(pred, y)\n",
    "\n",
    "        # Backpropagation\n",
    "        optimizer.zero_grad()\n",
    "        loss.backward()\n",
    "        optimizer.step()\n",
    "\n",
    "        if batch % 100 == 0:\n",
    "            loss, current = loss.item(), batch * len(X)\n",
    "            print(f\"loss: {loss:>7f}  [{current:>5d}/{size:>5d}]\")"
   ]
  },
  {
   "cell_type": "code",
   "execution_count": 9,
   "metadata": {},
   "outputs": [],
   "source": [
    "# We also check the model's performance against the test dataset to ensure it is learning.\n",
    "\n",
    "def test(dataloader, model, loss_fn):\n",
    "    size = len(dataloader.dataset)\n",
    "    num_batches = len(dataloader)\n",
    "    model.eval()\n",
    "    test_loss, correct = 0, 0\n",
    "    with torch.no_grad():\n",
    "        for X, y in dataloader:\n",
    "            X, y = X.to(device), y.to(device)\n",
    "            pred = model(X)\n",
    "            test_loss += loss_fn(pred, y).item()\n",
    "            correct += (pred.argmax(1) == y).type(torch.float).sum().item()\n",
    "    test_loss /= num_batches\n",
    "    correct /= size\n",
    "    print(f\"Test Error: \\n Accuracy: {(100*correct):>0.1f}%, Avg loss: {test_loss:>8f} \\n\")"
   ]
  },
  {
   "cell_type": "code",
   "execution_count": 10,
   "metadata": {},
   "outputs": [
    {
     "name": "stdout",
     "output_type": "stream",
     "text": [
      "Epoch 1\n",
      "-------------------------------\n",
      "loss: 2.302553  [    0/60000]\n",
      "loss: 2.291684  [ 6400/60000]\n",
      "loss: 2.266338  [12800/60000]\n",
      "loss: 2.259761  [19200/60000]\n",
      "loss: 2.240241  [25600/60000]\n",
      "loss: 2.204079  [32000/60000]\n",
      "loss: 2.218451  [38400/60000]\n",
      "loss: 2.179914  [44800/60000]\n",
      "loss: 2.174309  [51200/60000]\n",
      "loss: 2.141374  [57600/60000]\n",
      "Test Error: \n",
      " Accuracy: 36.5%, Avg loss: 2.138020 \n",
      "\n",
      "Epoch 2\n",
      "-------------------------------\n",
      "loss: 2.150889  [    0/60000]\n",
      "loss: 2.138368  [ 6400/60000]\n",
      "loss: 2.078469  [12800/60000]\n",
      "loss: 2.098090  [19200/60000]\n",
      "loss: 2.044265  [25600/60000]\n",
      "loss: 1.975412  [32000/60000]\n",
      "loss: 2.001063  [38400/60000]\n",
      "loss: 1.918473  [44800/60000]\n",
      "loss: 1.921429  [51200/60000]\n",
      "loss: 1.854271  [57600/60000]\n",
      "Test Error: \n",
      " Accuracy: 58.7%, Avg loss: 1.853672 \n",
      "\n",
      "Epoch 3\n",
      "-------------------------------\n",
      "loss: 1.886562  [    0/60000]\n",
      "loss: 1.853204  [ 6400/60000]\n",
      "loss: 1.734937  [12800/60000]\n",
      "loss: 1.780793  [19200/60000]\n",
      "loss: 1.671849  [25600/60000]\n",
      "loss: 1.618373  [32000/60000]\n",
      "loss: 1.630773  [38400/60000]\n",
      "loss: 1.535406  [44800/60000]\n",
      "loss: 1.566035  [51200/60000]\n",
      "loss: 1.464033  [57600/60000]\n",
      "Test Error: \n",
      " Accuracy: 61.4%, Avg loss: 1.484700 \n",
      "\n",
      "Epoch 4\n",
      "-------------------------------\n",
      "loss: 1.553329  [    0/60000]\n",
      "loss: 1.514498  [ 6400/60000]\n",
      "loss: 1.365589  [12800/60000]\n",
      "loss: 1.444297  [19200/60000]\n",
      "loss: 1.325921  [25600/60000]\n",
      "loss: 1.320338  [32000/60000]\n",
      "loss: 1.327531  [38400/60000]\n",
      "loss: 1.256131  [44800/60000]\n",
      "loss: 1.301565  [51200/60000]\n",
      "loss: 1.206900  [57600/60000]\n",
      "Test Error: \n",
      " Accuracy: 63.0%, Avg loss: 1.230652 \n",
      "\n",
      "Epoch 5\n",
      "-------------------------------\n",
      "loss: 1.309673  [    0/60000]\n",
      "loss: 1.284908  [ 6400/60000]\n",
      "loss: 1.121683  [12800/60000]\n",
      "loss: 1.234191  [19200/60000]\n",
      "loss: 1.105528  [25600/60000]\n",
      "loss: 1.130751  [32000/60000]\n",
      "loss: 1.147083  [38400/60000]\n",
      "loss: 1.087541  [44800/60000]\n",
      "loss: 1.138069  [51200/60000]\n",
      "loss: 1.059943  [57600/60000]\n",
      "Test Error: \n",
      " Accuracy: 64.6%, Avg loss: 1.074883 \n",
      "\n",
      "Done!\n"
     ]
    }
   ],
   "source": [
    "# The training process is conducted over several iterations (*epochs*). During each epoch, the model learns\n",
    "# parameters to make better predictions. We print the model's accuracy and loss at each epoch; we'd like to see the\n",
    "# accuracy increase and the loss decrease with every epoch.\n",
    "\n",
    "epochs = 5\n",
    "for t in range(epochs):\n",
    "    print(f\"Epoch {t+1}\\n-------------------------------\")\n",
    "    train(train_dataloader, model, loss_fn, optimizer)\n",
    "    test(test_dataloader, model, loss_fn)\n",
    "print(\"Done!\")"
   ]
  },
  {
   "cell_type": "code",
   "execution_count": 11,
   "metadata": {},
   "outputs": [
    {
     "name": "stdout",
     "output_type": "stream",
     "text": [
      "Saved PyTorch Model State to model.pth\n"
     ]
    }
   ],
   "source": [
    "######################################################################\n",
    "# Read more about `Training your model <optimization_tutorial.html>`_.\n",
    "#\n",
    "\n",
    "# Saving Models\n",
    "# -------------\n",
    "# A common way to save a model is to serialize the internal state dictionary (containing the model parameters).\n",
    "\n",
    "torch.save(model.state_dict(), \"model.pth\")\n",
    "print(\"Saved PyTorch Model State to model.pth\")\n"
   ]
  },
  {
   "cell_type": "code",
   "execution_count": 12,
   "metadata": {},
   "outputs": [
    {
     "data": {
      "text/plain": [
       "<All keys matched successfully>"
      ]
     },
     "execution_count": 12,
     "metadata": {},
     "output_type": "execute_result"
    }
   ],
   "source": [
    "# Loading Models\n",
    "# ----------------------------\n",
    "#\n",
    "# The process for loading a model includes re-creating the model structure and loading\n",
    "# the state dictionary into it.\n",
    "\n",
    "model = NeuralNetwork()\n",
    "model.load_state_dict(torch.load(\"model.pth\"))\n"
   ]
  },
  {
   "cell_type": "code",
   "execution_count": 13,
   "metadata": {},
   "outputs": [
    {
     "name": "stdout",
     "output_type": "stream",
     "text": [
      "Predicted: \"Ankle boot\", Actual: \"Ankle boot\"\n"
     ]
    }
   ],
   "source": [
    "# This model can now be used to make predictions.\n",
    "\n",
    "classes = [\n",
    "    \"T-shirt/top\",\n",
    "    \"Trouser\",\n",
    "    \"Pullover\",\n",
    "    \"Dress\",\n",
    "    \"Coat\",\n",
    "    \"Sandal\",\n",
    "    \"Shirt\",\n",
    "    \"Sneaker\",\n",
    "    \"Bag\",\n",
    "    \"Ankle boot\",\n",
    "]\n",
    "\n",
    "model.eval()\n",
    "x, y = test_data[0][0], test_data[0][1]\n",
    "with torch.no_grad():\n",
    "    pred = model(x)\n",
    "    predicted, actual = classes[pred[0].argmax(0)], classes[y]\n",
    "    print(f'Predicted: \"{predicted}\", Actual: \"{actual}\"')\n"
   ]
  },
  {
   "cell_type": "code",
   "execution_count": null,
   "metadata": {},
   "outputs": [],
   "source": []
  }
 ],
 "metadata": {
  "kernelspec": {
   "display_name": "Python 3",
   "language": "python",
   "name": "python3"
  },
  "language_info": {
   "codemirror_mode": {
    "name": "ipython",
    "version": 3
   },
   "file_extension": ".py",
   "mimetype": "text/x-python",
   "name": "python",
   "nbconvert_exporter": "python",
   "pygments_lexer": "ipython3",
   "version": "3.8.5"
  }
 },
 "nbformat": 4,
 "nbformat_minor": 1
}
