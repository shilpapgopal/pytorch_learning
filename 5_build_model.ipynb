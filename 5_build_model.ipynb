{
 "cells": [
  {
   "cell_type": "markdown",
   "metadata": {},
   "source": [
    "## Learnings from Pytorch tutorial:\n",
    "    https://pytorch.org/tutorials/beginner/basics/buildmodel_tutorial.html\n",
    "    https://github.com/pytorch/tutorials/blob/master/beginner_source/basics/buildmodel_tutorial.py"
   ]
  },
  {
   "cell_type": "markdown",
   "metadata": {},
   "source": [
    "# Sequential Network"
   ]
  },
  {
   "cell_type": "code",
   "execution_count": null,
   "metadata": {},
   "outputs": [],
   "source": [
    "\"\"\"\n",
    "`Learn the Basics <intro.html>`_ ||\n",
    "`Quickstart <quickstart_tutorial.html>`_ ||\n",
    "`Tensors <tensorqs_tutorial.html>`_ ||\n",
    "`Datasets & DataLoaders <data_tutorial.html>`_ ||\n",
    "`Transforms <transforms_tutorial.html>`_ ||\n",
    "**Build Model** ||\n",
    "`Autograd <autogradqs_tutorial.html>`_ ||\n",
    "`Optimization <optimization_tutorial.html>`_ ||\n",
    "`Save & Load Model <saveloadrun_tutorial.html>`_\n",
    "Build the Neural Network\n",
    "===================\n",
    "Neural networks comprise of layers/modules that perform operations on data.\n",
    "The `torch.nn <https://pytorch.org/docs/stable/nn.html>`_ namespace provides all the building blocks you need to\n",
    "build your own neural network. Every module in PyTorch subclasses the `nn.Module <https://pytorch.org/docs/stable/generated/torch.nn.Module.html>`_.\n",
    "A neural network is a module itself that consists of other modules (layers). This nested structure allows for\n",
    "building and managing complex architectures easily.\n",
    "In the following sections, we'll build a neural network to classify images in the FashionMNIST dataset.\n",
    "\"\"\""
   ]
  },
  {
   "cell_type": "code",
   "execution_count": 1,
   "metadata": {},
   "outputs": [],
   "source": [
    "import os\n",
    "import torch\n",
    "from torch import nn\n",
    "from torch.utils.data import DataLoader\n",
    "from torchvision import datasets, transforms"
   ]
  },
  {
   "cell_type": "code",
   "execution_count": 2,
   "metadata": {},
   "outputs": [
    {
     "name": "stdout",
     "output_type": "stream",
     "text": [
      "Using cuda device\n"
     ]
    }
   ],
   "source": [
    "# Get Device for Training\n",
    "# -----------------------\n",
    "# We want to be able to train our model on a hardware accelerator like the GPU,\n",
    "# if it is available. Let's check to see if\n",
    "# `torch.cuda <https://pytorch.org/docs/stable/notes/cuda.html>`_ is available, else we\n",
    "# continue to use the CPU.\n",
    "\n",
    "device = 'cuda' if torch.cuda.is_available() else 'cpu'\n",
    "print(f'Using {device} device')"
   ]
  },
  {
   "cell_type": "code",
   "execution_count": 3,
   "metadata": {},
   "outputs": [],
   "source": [
    "# Define the Class\n",
    "# -------------------------\n",
    "# We define our neural network by subclassing ``nn.Module``, and\n",
    "# initialize the neural network layers in ``__init__``. Every ``nn.Module`` subclass implements\n",
    "# the operations on input data in the ``forward`` method.\n",
    "\n",
    "class NeuralNetwork(nn.Module):\n",
    "    def __init__(self):\n",
    "        super(NeuralNetwork, self).__init__()\n",
    "        self.flatten = nn.Flatten()\n",
    "        self.linear_relu_stack = nn.Sequential(\n",
    "            nn.Linear(28*28, 512),\n",
    "            nn.ReLU(),\n",
    "            nn.Linear(512, 512),\n",
    "            nn.ReLU(),\n",
    "            nn.Linear(512, 10),\n",
    "        )\n",
    "\n",
    "    def forward(self, x):\n",
    "        x = self.flatten(x)\n",
    "        logits = self.linear_relu_stack(x)\n",
    "        return logits"
   ]
  },
  {
   "cell_type": "code",
   "execution_count": 4,
   "metadata": {},
   "outputs": [
    {
     "name": "stdout",
     "output_type": "stream",
     "text": [
      "NeuralNetwork(\n",
      "  (flatten): Flatten(start_dim=1, end_dim=-1)\n",
      "  (linear_relu_stack): Sequential(\n",
      "    (0): Linear(in_features=784, out_features=512, bias=True)\n",
      "    (1): ReLU()\n",
      "    (2): Linear(in_features=512, out_features=512, bias=True)\n",
      "    (3): ReLU()\n",
      "    (4): Linear(in_features=512, out_features=10, bias=True)\n",
      "  )\n",
      ")\n"
     ]
    }
   ],
   "source": [
    "# We create an instance of ``NeuralNetwork``, and move it to the ``device``, and print\n",
    "# its structure.\n",
    "\n",
    "model = NeuralNetwork().to(device)\n",
    "print(model)\n"
   ]
  },
  {
   "cell_type": "code",
   "execution_count": 5,
   "metadata": {},
   "outputs": [
    {
     "name": "stdout",
     "output_type": "stream",
     "text": [
      "Predicted class: tensor([0], device='cuda:0')\n"
     ]
    }
   ],
   "source": [
    "# To use the model, we pass it the input data. This executes the model's ``forward``,\n",
    "# along with some `background operations <https://github.com/pytorch/pytorch/blob/270111b7b611d174967ed204776985cefca9c144/torch/nn/modules/module.py#L866>`_.\n",
    "# Do not call ``model.forward()`` directly!\n",
    "#\n",
    "# Calling the model on the input returns a 10-dimensional tensor with raw predicted values for each class.\n",
    "# We get the prediction probabilities by passing it through an instance of the ``nn.Softmax`` module.\n",
    "\n",
    "X = torch.rand(1, 28, 28, device=device)\n",
    "logits = model(X)\n",
    "pred_probab = nn.Softmax(dim=1)(logits)\n",
    "y_pred = pred_probab.argmax(1)\n",
    "print(f\"Predicted class: {y_pred}\")"
   ]
  },
  {
   "cell_type": "code",
   "execution_count": 6,
   "metadata": {},
   "outputs": [
    {
     "name": "stdout",
     "output_type": "stream",
     "text": [
      "torch.Size([3, 28, 28])\n"
     ]
    }
   ],
   "source": [
    "# Model Layers\n",
    "# -------------------------\n",
    "#\n",
    "# Let's break down the layers in the FashionMNIST model. To illustrate it, we\n",
    "# will take a sample minibatch of 3 images of size 28x28 and see what happens to it as\n",
    "# we pass it through the network.\n",
    "\n",
    "input_image = torch.rand(3,28,28)\n",
    "print(input_image.size())"
   ]
  },
  {
   "cell_type": "code",
   "execution_count": 7,
   "metadata": {},
   "outputs": [
    {
     "name": "stdout",
     "output_type": "stream",
     "text": [
      "torch.Size([3, 784])\n"
     ]
    }
   ],
   "source": [
    "# nn.Flatten\n",
    "# ^^^^^^^^^^^^^^^^^^^^^^\n",
    "# We initialize the `nn.Flatten  <https://pytorch.org/docs/stable/generated/torch.nn.Flatten.html>`_\n",
    "# layer to convert each 2D 28x28 image into a contiguous array of 784 pixel values (\n",
    "# the minibatch dimension (at dim=0) is maintained).\n",
    "\n",
    "flatten = nn.Flatten()\n",
    "flat_image = flatten(input_image)\n",
    "print(flat_image.size())"
   ]
  },
  {
   "cell_type": "code",
   "execution_count": 8,
   "metadata": {},
   "outputs": [
    {
     "name": "stdout",
     "output_type": "stream",
     "text": [
      "torch.Size([3, 20])\n"
     ]
    }
   ],
   "source": [
    "# nn.Linear\n",
    "# ^^^^^^^^^^^^^^^^^^^^^^\n",
    "# The `linear layer <https://pytorch.org/docs/stable/generated/torch.nn.Linear.html>`_\n",
    "# is a module that applies a linear transformation on the input using its stored weights and biases.\n",
    "#\n",
    "layer1 = nn.Linear(in_features=28*28, out_features=20)\n",
    "hidden1 = layer1(flat_image)\n",
    "print(hidden1.size())\n"
   ]
  },
  {
   "cell_type": "code",
   "execution_count": 9,
   "metadata": {},
   "outputs": [
    {
     "name": "stdout",
     "output_type": "stream",
     "text": [
      "Before ReLU: tensor([[ 0.0634, -0.0525,  0.5308, -0.0800, -0.4794, -0.2800, -0.6191, -0.2689,\n",
      "          0.7830,  0.3115,  0.3224,  0.3942, -0.2990,  0.3805, -0.0525, -0.0903,\n",
      "          0.2300, -0.3607, -0.3091,  0.2396],\n",
      "        [ 0.0353,  0.0465,  0.3647, -0.2882, -0.2206, -0.0719, -0.8116, -0.0980,\n",
      "          0.4940,  0.2935, -0.0797,  0.3703, -0.3428,  0.0633, -0.0822, -0.1091,\n",
      "          0.2103, -0.2518, -0.5627,  0.2588],\n",
      "        [ 0.1597, -0.2188,  0.0103, -0.3065, -0.3557, -0.0658, -0.7857,  0.0092,\n",
      "          0.5828,  0.1702,  0.0328,  0.2805, -0.3219,  0.2905,  0.0833, -0.2368,\n",
      "          0.1669, -0.2208, -0.3817,  0.1212]], grad_fn=<AddmmBackward>)\n",
      "\n",
      "\n",
      "After ReLU: tensor([[0.0634, 0.0000, 0.5308, 0.0000, 0.0000, 0.0000, 0.0000, 0.0000, 0.7830,\n",
      "         0.3115, 0.3224, 0.3942, 0.0000, 0.3805, 0.0000, 0.0000, 0.2300, 0.0000,\n",
      "         0.0000, 0.2396],\n",
      "        [0.0353, 0.0465, 0.3647, 0.0000, 0.0000, 0.0000, 0.0000, 0.0000, 0.4940,\n",
      "         0.2935, 0.0000, 0.3703, 0.0000, 0.0633, 0.0000, 0.0000, 0.2103, 0.0000,\n",
      "         0.0000, 0.2588],\n",
      "        [0.1597, 0.0000, 0.0103, 0.0000, 0.0000, 0.0000, 0.0000, 0.0092, 0.5828,\n",
      "         0.1702, 0.0328, 0.2805, 0.0000, 0.2905, 0.0833, 0.0000, 0.1669, 0.0000,\n",
      "         0.0000, 0.1212]], grad_fn=<ReluBackward0>)\n"
     ]
    }
   ],
   "source": [
    "# nn.ReLU\n",
    "# ^^^^^^^^^^^^^^^^^^^^^^\n",
    "# Non-linear activations are what create the complex mappings between the model's inputs and outputs.\n",
    "# They are applied after linear transformations to introduce *nonlinearity*, helping neural networks\n",
    "# learn a wide variety of phenomena.\n",
    "#\n",
    "# In this model, we use `nn.ReLU <https://pytorch.org/docs/stable/generated/torch.nn.ReLU.html>`_ between our\n",
    "# linear layers, but there's other activations to introduce non-linearity in your model.\n",
    "\n",
    "print(f\"Before ReLU: {hidden1}\\n\\n\")\n",
    "hidden1 = nn.ReLU()(hidden1)\n",
    "print(f\"After ReLU: {hidden1}\")\n"
   ]
  },
  {
   "cell_type": "code",
   "execution_count": 10,
   "metadata": {},
   "outputs": [],
   "source": [
    "# nn.Sequential\n",
    "# ^^^^^^^^^^^^^^^^^^^^^^\n",
    "# `nn.Sequential <https://pytorch.org/docs/stable/generated/torch.nn.Sequential.html>`_ is an ordered\n",
    "# container of modules. The data is passed through all the modules in the same order as defined. You can use\n",
    "# sequential containers to put together a quick network like ``seq_modules``.\n",
    "\n",
    "seq_modules = nn.Sequential(\n",
    "    flatten,\n",
    "    layer1,\n",
    "    nn.ReLU(),\n",
    "    nn.Linear(20, 10)\n",
    ")\n",
    "input_image = torch.rand(3,28,28)\n",
    "logits = seq_modules(input_image)"
   ]
  },
  {
   "cell_type": "code",
   "execution_count": 11,
   "metadata": {},
   "outputs": [],
   "source": [
    "# nn.Softmax\n",
    "# ^^^^^^^^^^^^^^^^^^^^^^\n",
    "# The last linear layer of the neural network returns `logits` - raw values in [-\\infty, \\infty] - which are passed to the\n",
    "# `nn.Softmax <https://pytorch.org/docs/stable/generated/torch.nn.Softmax.html>`_ module. The logits are scaled to values\n",
    "# [0, 1] representing the model's predicted probabilities for each class. ``dim`` parameter indicates the dimension along\n",
    "# which the values must sum to 1.\n",
    "\n",
    "softmax = nn.Softmax(dim=1)\n",
    "pred_probab = softmax(logits)\n"
   ]
  },
  {
   "cell_type": "code",
   "execution_count": 12,
   "metadata": {},
   "outputs": [
    {
     "name": "stdout",
     "output_type": "stream",
     "text": [
      "Model structure:  NeuralNetwork(\n",
      "  (flatten): Flatten(start_dim=1, end_dim=-1)\n",
      "  (linear_relu_stack): Sequential(\n",
      "    (0): Linear(in_features=784, out_features=512, bias=True)\n",
      "    (1): ReLU()\n",
      "    (2): Linear(in_features=512, out_features=512, bias=True)\n",
      "    (3): ReLU()\n",
      "    (4): Linear(in_features=512, out_features=10, bias=True)\n",
      "  )\n",
      ") \n",
      "\n",
      "\n",
      "Layer: linear_relu_stack.0.weight | Size: torch.Size([512, 784]) | Values : tensor([[-1.3822e-02, -1.9273e-02, -1.2559e-04,  ..., -3.6746e-05,\n",
      "         -5.2885e-03,  1.6514e-02],\n",
      "        [-3.0045e-02,  2.5794e-02,  2.3883e-03,  ...,  1.9935e-02,\n",
      "         -1.9581e-02, -2.7111e-02]], device='cuda:0', grad_fn=<SliceBackward>) \n",
      "\n",
      "Layer: linear_relu_stack.0.bias | Size: torch.Size([512]) | Values : tensor([-0.0127, -0.0232], device='cuda:0', grad_fn=<SliceBackward>) \n",
      "\n",
      "Layer: linear_relu_stack.2.weight | Size: torch.Size([512, 512]) | Values : tensor([[ 0.0401,  0.0146, -0.0107,  ...,  0.0214, -0.0017, -0.0266],\n",
      "        [-0.0380, -0.0187,  0.0340,  ..., -0.0014,  0.0324, -0.0050]],\n",
      "       device='cuda:0', grad_fn=<SliceBackward>) \n",
      "\n",
      "Layer: linear_relu_stack.2.bias | Size: torch.Size([512]) | Values : tensor([-0.0190, -0.0429], device='cuda:0', grad_fn=<SliceBackward>) \n",
      "\n",
      "Layer: linear_relu_stack.4.weight | Size: torch.Size([10, 512]) | Values : tensor([[-0.0075, -0.0335,  0.0426,  ..., -0.0033,  0.0225, -0.0373],\n",
      "        [-0.0110,  0.0076, -0.0364,  ...,  0.0324, -0.0401,  0.0199]],\n",
      "       device='cuda:0', grad_fn=<SliceBackward>) \n",
      "\n",
      "Layer: linear_relu_stack.4.bias | Size: torch.Size([10]) | Values : tensor([0.0350, 0.0318], device='cuda:0', grad_fn=<SliceBackward>) \n",
      "\n"
     ]
    }
   ],
   "source": [
    "# Model Parameters\n",
    "# -------------------------\n",
    "# Many layers inside a neural network are *parameterized*, i.e. have associated weights\n",
    "# and biases that are optimized during training. Subclassing ``nn.Module`` automatically\n",
    "# tracks all fields defined inside your model object, and makes all parameters\n",
    "# accessible using your model's ``parameters()`` or ``named_parameters()`` methods.\n",
    "#\n",
    "# In this example, we iterate over each parameter, and print its size and a preview of its values.\n",
    "#\n",
    "\n",
    "\n",
    "print(\"Model structure: \", model, \"\\n\\n\")\n",
    "\n",
    "for name, param in model.named_parameters():\n",
    "    print(f\"Layer: {name} | Size: {param.size()} | Values : {param[:2]} \\n\")\n"
   ]
  },
  {
   "cell_type": "code",
   "execution_count": 13,
   "metadata": {},
   "outputs": [],
   "source": [
    "# Further Reading\n",
    "# --------------\n",
    "# - `torch.nn API <https://pytorch.org/docs/stable/nn.html>`_"
   ]
  },
  {
   "cell_type": "code",
   "execution_count": null,
   "metadata": {},
   "outputs": [],
   "source": []
  }
 ],
 "metadata": {
  "kernelspec": {
   "display_name": "Python 3",
   "language": "python",
   "name": "python3"
  },
  "language_info": {
   "codemirror_mode": {
    "name": "ipython",
    "version": 3
   },
   "file_extension": ".py",
   "mimetype": "text/x-python",
   "name": "python",
   "nbconvert_exporter": "python",
   "pygments_lexer": "ipython3",
   "version": "3.8.5"
  }
 },
 "nbformat": 4,
 "nbformat_minor": 4
}
